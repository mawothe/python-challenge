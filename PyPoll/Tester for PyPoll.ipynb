{
 "cells": [
  {
   "cell_type": "code",
   "execution_count": 1,
   "metadata": {},
   "outputs": [],
   "source": [
    "import pandas as pd\n",
    "import os"
   ]
  },
  {
   "cell_type": "code",
   "execution_count": 2,
   "metadata": {},
   "outputs": [],
   "source": [
    "voting_file = os.path.join(\"Resources\", \"election_data.csv\")"
   ]
  },
  {
   "cell_type": "code",
   "execution_count": 3,
   "metadata": {},
   "outputs": [],
   "source": [
    "vote = pd.read_csv(voting_file)\n",
    "vote_df = pd.DataFrame(vote)"
   ]
  },
  {
   "cell_type": "code",
   "execution_count": 4,
   "metadata": {},
   "outputs": [
    {
     "data": {
      "text/html": [
       "<div>\n",
       "<style scoped>\n",
       "    .dataframe tbody tr th:only-of-type {\n",
       "        vertical-align: middle;\n",
       "    }\n",
       "\n",
       "    .dataframe tbody tr th {\n",
       "        vertical-align: top;\n",
       "    }\n",
       "\n",
       "    .dataframe thead th {\n",
       "        text-align: right;\n",
       "    }\n",
       "</style>\n",
       "<table border=\"1\" class=\"dataframe\">\n",
       "  <thead>\n",
       "    <tr style=\"text-align: right;\">\n",
       "      <th></th>\n",
       "      <th>Voter ID</th>\n",
       "      <th>County</th>\n",
       "      <th>Candidate</th>\n",
       "    </tr>\n",
       "  </thead>\n",
       "  <tbody>\n",
       "    <tr>\n",
       "      <th>0</th>\n",
       "      <td>12864552</td>\n",
       "      <td>Marsh</td>\n",
       "      <td>Khan</td>\n",
       "    </tr>\n",
       "    <tr>\n",
       "      <th>1</th>\n",
       "      <td>17444633</td>\n",
       "      <td>Marsh</td>\n",
       "      <td>Correy</td>\n",
       "    </tr>\n",
       "    <tr>\n",
       "      <th>2</th>\n",
       "      <td>19330107</td>\n",
       "      <td>Marsh</td>\n",
       "      <td>Khan</td>\n",
       "    </tr>\n",
       "    <tr>\n",
       "      <th>3</th>\n",
       "      <td>19865775</td>\n",
       "      <td>Queen</td>\n",
       "      <td>Khan</td>\n",
       "    </tr>\n",
       "    <tr>\n",
       "      <th>4</th>\n",
       "      <td>11927875</td>\n",
       "      <td>Marsh</td>\n",
       "      <td>Khan</td>\n",
       "    </tr>\n",
       "  </tbody>\n",
       "</table>\n",
       "</div>"
      ],
      "text/plain": [
       "   Voter ID County Candidate\n",
       "0  12864552  Marsh      Khan\n",
       "1  17444633  Marsh    Correy\n",
       "2  19330107  Marsh      Khan\n",
       "3  19865775  Queen      Khan\n",
       "4  11927875  Marsh      Khan"
      ]
     },
     "execution_count": 4,
     "metadata": {},
     "output_type": "execute_result"
    }
   ],
   "source": [
    "vote_df.head()"
   ]
  },
  {
   "cell_type": "code",
   "execution_count": 5,
   "metadata": {},
   "outputs": [],
   "source": [
    "total_votes = vote_df.describe"
   ]
  },
  {
   "cell_type": "code",
   "execution_count": null,
   "metadata": {},
   "outputs": [],
   "source": []
  },
  {
   "cell_type": "code",
   "execution_count": 6,
   "metadata": {},
   "outputs": [
    {
     "data": {
      "text/plain": [
       "<bound method NDFrame.describe of          Voter ID   County Candidate\n",
       "0        12864552    Marsh      Khan\n",
       "1        17444633    Marsh    Correy\n",
       "2        19330107    Marsh      Khan\n",
       "3        19865775    Queen      Khan\n",
       "4        11927875    Marsh      Khan\n",
       "5        19014606    Marsh        Li\n",
       "6        17775191    Queen    Correy\n",
       "7        14003692    Marsh      Khan\n",
       "8        14255761    Marsh      Khan\n",
       "9        13870173    Marsh    Correy\n",
       "10       16793141    Marsh      Khan\n",
       "11       10591158    Bamoo    Correy\n",
       "12       12344763  Trandee      Khan\n",
       "13       18611011    Marsh      Khan\n",
       "14       17845903    Marsh    Correy\n",
       "15       12621425  Trandee      Khan\n",
       "16       14365844    Marsh    Correy\n",
       "17       13444989    Marsh    Correy\n",
       "18       19204501  Trandee      Khan\n",
       "19       10098063    Queen    Correy\n",
       "20       19843246    Marsh    Correy\n",
       "21       11509120    Marsh    Correy\n",
       "22       13402499    Marsh    Correy\n",
       "23       18138694    Marsh      Khan\n",
       "24       15056703    Marsh      Khan\n",
       "25       12026178    Queen      Khan\n",
       "26       16667390    Marsh      Khan\n",
       "27       12847422    Queen      Khan\n",
       "28       10599242    Marsh      Khan\n",
       "29       18558857    Queen    Correy\n",
       "...           ...      ...       ...\n",
       "3520971  17923362    Marsh      Khan\n",
       "3520972  11357988    Marsh      Khan\n",
       "3520973  13741548    Marsh    Correy\n",
       "3520974  19929693    Marsh      Khan\n",
       "3520975  16441960    Marsh      Khan\n",
       "3520976  19992954    Marsh  O'Tooley\n",
       "3520977  13845046    Marsh      Khan\n",
       "3520978  18550834    Marsh    Correy\n",
       "3520979  17540334    Queen      Khan\n",
       "3520980  11020483    Queen  O'Tooley\n",
       "3520981  15912885  Trandee      Khan\n",
       "3520982  12609301    Marsh      Khan\n",
       "3520983  14774584    Marsh        Li\n",
       "3520984  13283796    Marsh      Khan\n",
       "3520985  13359648    Bamoo      Khan\n",
       "3520986  17391173    Queen    Correy\n",
       "3520987  18995053    Queen      Khan\n",
       "3520988  11867516    Bamoo        Li\n",
       "3520989  18589143    Marsh      Khan\n",
       "3520990  12282098    Marsh      Khan\n",
       "3520991  16950418    Marsh    Correy\n",
       "3520992  13715415    Marsh      Khan\n",
       "3520993  18129849    Marsh      Khan\n",
       "3520994  15785886    Marsh    Correy\n",
       "3520995  12890090    Marsh    Correy\n",
       "3520996  18050509    Marsh      Khan\n",
       "3520997  13060332    Marsh      Khan\n",
       "3520998  16754708    Queen      Khan\n",
       "3520999  12083146    Queen      Khan\n",
       "3521000  14526187    Queen  O'Tooley\n",
       "\n",
       "[3521001 rows x 3 columns]>"
      ]
     },
     "execution_count": 6,
     "metadata": {},
     "output_type": "execute_result"
    }
   ],
   "source": []
  },
  {
   "cell_type": "code",
   "execution_count": null,
   "metadata": {
    "collapsed": true
   },
   "outputs": [],
   "source": []
  }
 ],
 "metadata": {
  "kernelspec": {
   "display_name": "Python [conda env:PythonData]",
   "language": "python",
   "name": "conda-env-PythonData-py"
  },
  "language_info": {
   "codemirror_mode": {
    "name": "ipython",
    "version": 3
   },
   "file_extension": ".py",
   "mimetype": "text/x-python",
   "name": "python",
   "nbconvert_exporter": "python",
   "pygments_lexer": "ipython3",
   "version": "3.6.7"
  }
 },
 "nbformat": 4,
 "nbformat_minor": 2
}
